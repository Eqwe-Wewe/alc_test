{
 "cells": [
  {
   "cell_type": "markdown",
   "id": "178dfca9",
   "metadata": {},
   "source": [
    "## Homework_2"
   ]
  },
  {
   "cell_type": "markdown",
   "id": "322d98e3",
   "metadata": {},
   "source": [
    "Для выполнения данной лабораторной работы по Python в базе данных 'derebot' в cхеме 'SAMCHUK_SV' были созданы 2 таблицы:\n",
    "- 'costs' - для хранения трат, разделенных по группам\n",
    "- 'costs_limits' - для хранения лимитов трат"
   ]
  },
  {
   "cell_type": "markdown",
   "id": "fb8924ab",
   "metadata": {},
   "source": [
    "Произведем обработку и вставку сырых данных в таблицу 'costs' для проверки работы методов."
   ]
  },
  {
   "cell_type": "code",
   "execution_count": 18,
   "id": "1279b75f",
   "metadata": {},
   "outputs": [],
   "source": [
    "from config_db import config_db\n",
    "from database import DataBase\n",
    "\n",
    "\n",
    "db = DataBase(**config_db)\n",
    "\n",
    "db.insert_tbl_costs(\n",
    "    [\n",
    "        ['12.10.2021', 'Канцелярия', 300],\n",
    "        ['12-10-2021', '///Кофе///', 123.45],\n",
    "        [' 12 .10.2021 ', '|||Кофе', 99.99],\n",
    "        ['12.10/2021', 'БеНзИн/,', 642],\n",
    "        ['12/10/2021', '    КОФЕ....   ', 100],\n",
    "        ['13.10.2021', '????КанцеЛярия?', 200],\n",
    "        ['13.10.2021', 'кофЕ ', 432.10],\n",
    "        ['13.10.2021', '  беНзин', 100],\n",
    "        ['14_10.2021', '--кАНЦЕЛЯРИя---', 500],\n",
    "        ['14_10.2021', '$$кофе$$ ', 50],\n",
    "        ['  14 - 10 - 2021', '  %%кАнЦеЛяРия:!@', 23.09],\n",
    "    ]\n",
    ")"
   ]
  },
  {
   "cell_type": "markdown",
   "id": "c9137178",
   "metadata": {},
   "source": [
    "#### Задание 1\n",
    "<p style=\"font-size: 25px\">&#10077;</p>\n",
    "<i>БД = Oracle\n",
    "<br>Используйте sqlalchemy\n",
    "\n",
    "Необходимо создать функции расчета трат\n",
    "\n",
    "<br>Первая функция должна рассчитывать траты по всем группам в рамках одного дня.\n",
    "<br>То есть, вы передаёте дату, а функция возвращает вам агрегированные суммы трат по группам\n",
    "<br>Например: у нас имеется три записи: \n",
    "<br>20.01.2021 Продукты 100\n",
    "<br>20.01.2021 Продукты 200\n",
    "<br>19.01.2021 Такси 150\n",
    "<br>Если передать функции дату 20.01.2021, то она должна вывести: \n",
    "<br>20.01.2021 Продукты 300</i>\n",
    "<p style=\"font-size: 25px\">&#10078;</p>"
   ]
  },
  {
   "cell_type": "markdown",
   "id": "e03c699f",
   "metadata": {},
   "source": [
    "#### Решение задания 1\n",
    "\n",
    "Воспользуемся методом calc_costs класса DataBase для рассчета трат по группам в рамках одного дня:\n",
    "```python\n",
    "def calc_costs(self, date: str):\n",
    "    try:\n",
    "        self.__metadata.reflect()\n",
    "        tbl = self.__metadata.tables['costs']\n",
    "        date = self.__check_date(date)\n",
    "\n",
    "        transaction = self.conn.begin()\n",
    "        responce = select(\n",
    "            tbl.c.col_date,\n",
    "            tbl.c.col_group,\n",
    "            sql.func.sum(tbl.c.col_summ)\n",
    "        ).where(tbl.c.col_date == date)\\\n",
    "        .group_by(tbl.c.col_group, tbl.c.col_date)\n",
    "\n",
    "        responce = self.conn.execute(responce).fetchall()\n",
    "    except exc.SQLAlchemyError as err:\n",
    "        transaction.rollback()\n",
    "        print(err)\n",
    "    else:\n",
    "        return [\n",
    "            (\n",
    "                i[0].strftime('%d.%m.%Y'),\n",
    "                i[1],\n",
    "                f'{i[2]:,g}'.replace(',', ' ')\n",
    "            ) for i in responce\n",
    "        ]\n",
    "    finally:\n",
    "        transaction.close()\n",
    "```\n",
    "<br>Результать работы метода:"
   ]
  },
  {
   "cell_type": "code",
   "execution_count": 19,
   "id": "5ad4bb67",
   "metadata": {},
   "outputs": [
    {
     "name": "stdout",
     "output_type": "stream",
     "text": [
      "12.10.2021 Кофе 323.44\n",
      "12.10.2021 Бензин 642\n",
      "12.10.2021 Канцелярия 300\n"
     ]
    },
    {
     "data": {
      "text/plain": [
       "[None, None, None]"
      ]
     },
     "execution_count": 19,
     "metadata": {},
     "output_type": "execute_result"
    }
   ],
   "source": [
    "[print(' '.join([i[0], i[1].capitalize(), i[2]])) for i in db.calc_costs('12.10.2021')]"
   ]
  },
  {
   "cell_type": "markdown",
   "id": "a99c47ca",
   "metadata": {},
   "source": [
    "<p style=\"font-size: 25px\">&#10077;</p>\n",
    "<br><i>Вторая функция должна рассчитывать траты по всем группа в рамках периода.\n",
    "<br>То есть, функция должна принимать две даты и возвращать вам агрегированные суммы трат по группа в рамках периода</i>\n",
    "<p style=\"font-size: 25px\">&#10078;</p>"
   ]
  },
  {
   "cell_type": "markdown",
   "id": "98b76cf2",
   "metadata": {},
   "source": [
    "Для решения задачи по рассчету трат по всем группам за период был написан метод calc_costs_between класса DataBase:\n",
    "```python\n",
    "def calc_costs_between(self, date_first: str, date_last: str):\n",
    "    try:\n",
    "        self.__metadata.reflect()\n",
    "        tbl = self.__metadata.tables['costs']\n",
    "        date_first = self.__check_date(date_first)\n",
    "        date_last = self.__check_date(date_last)\n",
    "\n",
    "        transaction = self.conn.begin()\n",
    "        responce = select(\n",
    "            tbl.c.col_group,\n",
    "            sql.func.sum(tbl.c.col_summ)\n",
    "        ).where(tbl.c.col_date.between(date_first, date_last))\\\n",
    "        .group_by(tbl.c.col_group)\n",
    "        responce = self.conn.execute(responce).fetchall()\n",
    "    except exc.SQLAlchemyError as err:\n",
    "        transaction.rollback()\n",
    "        print(err)\n",
    "    else:\n",
    "        return [\n",
    "            (\n",
    "                i[0],\n",
    "                f'{i[1]:,g}'.replace(',', ' ')\n",
    "            ) for i in responce\n",
    "        ]\n",
    "    finally:\n",
    "        transaction.close()\n",
    "```\n",
    "<br>Результат работы метода:"
   ]
  },
  {
   "cell_type": "code",
   "execution_count": 20,
   "id": "cdeed853",
   "metadata": {},
   "outputs": [
    {
     "name": "stdout",
     "output_type": "stream",
     "text": [
      "кофе 805.54\n",
      "бензин 742\n",
      "канцелярия 1 023.09\n"
     ]
    },
    {
     "data": {
      "text/plain": [
       "[None, None, None]"
      ]
     },
     "execution_count": 20,
     "metadata": {},
     "output_type": "execute_result"
    }
   ],
   "source": [
    "[print(*i) for i in db.calc_costs_between('12.10.2021', '14.10.2021')]"
   ]
  },
  {
   "cell_type": "markdown",
   "id": "45743b68",
   "metadata": {},
   "source": [
    "#### Задание 2\n",
    "<p style=\"font-size: 25px\">&#10077;</p>\n",
    "<i><br>Необходимо создать функцию, которая сможет удалить последнюю запись в таблице\n",
    "<p style=\"font-size: 25px\">&#10078;</p>"
   ]
  },
  {
   "cell_type": "markdown",
   "id": "9e735e91",
   "metadata": {},
   "source": [
    "#### Решение задания 2\n",
    "\n",
    "Для удаления последней записи в таблице воспользуемся методом del_last_rec класса DataBase:\n",
    "```python\n",
    "def del_last_rec(self):\n",
    "    try:\n",
    "        transaction = self.conn.begin()\n",
    "        subquery = select(sql.func.max(self.tbl_costs.c.id))\n",
    "        delete_ = delete(self.tbl_costs).where(\n",
    "            self.tbl_costs.c.id == subquery.scalar_subquery()\n",
    "        )\n",
    "        self.conn.execute(delete_)\n",
    "        print('Последняя запись удалена')\n",
    "    except exc.SQLAlchemyError as err:\n",
    "        print(err)\n",
    "        transaction.rollback()\n",
    "    else:\n",
    "        transaction.commit()\n",
    "    finally:\n",
    "        transaction.close()\n",
    "```"
   ]
  },
  {
   "cell_type": "markdown",
   "id": "819307a2",
   "metadata": {},
   "source": [
    "Содержимое таблицы 'costs' до использования метода del_last_rec"
   ]
  },
  {
   "cell_type": "code",
   "execution_count": 21,
   "id": "9325c624",
   "metadata": {},
   "outputs": [
    {
     "data": {
      "text/plain": [
       "[(1, datetime.date(2021, 10, 12), 'канцелярия', 300.0),\n",
       " (2, datetime.date(2021, 10, 12), 'кофе', 123.45),\n",
       " (3, datetime.date(2021, 10, 12), 'кофе', 99.99),\n",
       " (4, datetime.date(2021, 10, 12), 'бензин', 642.0),\n",
       " (5, datetime.date(2021, 10, 12), 'кофе', 100.0),\n",
       " (6, datetime.date(2021, 10, 13), 'канцелярия', 200.0),\n",
       " (7, datetime.date(2021, 10, 13), 'кофе', 432.1),\n",
       " (8, datetime.date(2021, 10, 13), 'бензин', 100.0),\n",
       " (9, datetime.date(2021, 10, 14), 'канцелярия', 500.0),\n",
       " (10, datetime.date(2021, 10, 14), 'кофе', 50.0),\n",
       " (11, datetime.date(2021, 10, 14), 'канцелярия', 23.09)]"
      ]
     },
     "execution_count": 21,
     "metadata": {},
     "output_type": "execute_result"
    }
   ],
   "source": [
    "db.select_data('costs')"
   ]
  },
  {
   "cell_type": "markdown",
   "id": "305897f8",
   "metadata": {},
   "source": [
    "Удалим последнюю запись"
   ]
  },
  {
   "cell_type": "code",
   "execution_count": 22,
   "id": "0472d85e",
   "metadata": {},
   "outputs": [
    {
     "name": "stdout",
     "output_type": "stream",
     "text": [
      "Последняя запись удалена\n"
     ]
    }
   ],
   "source": [
    "db.del_last_rec()"
   ]
  },
  {
   "cell_type": "markdown",
   "id": "c3fa2ea1",
   "metadata": {},
   "source": [
    "Содержимое таблицы 'costs' после использования метода del_last_rec"
   ]
  },
  {
   "cell_type": "code",
   "execution_count": 23,
   "id": "c6d2d544",
   "metadata": {},
   "outputs": [
    {
     "data": {
      "text/plain": [
       "[(1, datetime.date(2021, 10, 12), 'канцелярия', 300.0),\n",
       " (2, datetime.date(2021, 10, 12), 'кофе', 123.45),\n",
       " (3, datetime.date(2021, 10, 12), 'кофе', 99.99),\n",
       " (4, datetime.date(2021, 10, 12), 'бензин', 642.0),\n",
       " (5, datetime.date(2021, 10, 12), 'кофе', 100.0),\n",
       " (6, datetime.date(2021, 10, 13), 'канцелярия', 200.0),\n",
       " (7, datetime.date(2021, 10, 13), 'кофе', 432.1),\n",
       " (8, datetime.date(2021, 10, 13), 'бензин', 100.0),\n",
       " (9, datetime.date(2021, 10, 14), 'канцелярия', 500.0),\n",
       " (10, datetime.date(2021, 10, 14), 'кофе', 50.0)]"
      ]
     },
     "execution_count": 23,
     "metadata": {},
     "output_type": "execute_result"
    }
   ],
   "source": [
    "db.select_data('costs')"
   ]
  },
  {
   "cell_type": "markdown",
   "id": "641fb958",
   "metadata": {},
   "source": [
    "#### Задание 3\n",
    "\n",
    "<p style=\"font-size: 25px\">&#10077;</p><i><br>Необходимо создать функцию, которая предупредит вас о том, что вы потратили больше, чем нужно в рамках Месяца\n",
    "<br> Предположим, у вас есть бюджет в 5 000 рублей, который направлен на развлечения или ваши увлечения\n",
    "<br> Если вы потратите больше, чем 5 000 на конкретную группу трат, то функция должна будет вас об этом предупредить сообщением:\n",
    "<br> \"Вы вышли за пределы лимита в 5 000 рублей\"></i>\n",
    "<p style=\"font-size: 25px\">&#10078;</p>"
   ]
  },
  {
   "cell_type": "markdown",
   "id": "3ded16cf",
   "metadata": {},
   "source": [
    "#### Решение задания 3\n",
    "\n",
    "<br>Для проверки лимитов используется метод check_limit класса DataBase.\n",
    "<br>Выполняется при каждом вызове метода insert_data - будь то запись одной или нескольких строк.\n",
    "```python\n",
    "def check_limit(self, month: 'datetime', group: str):\n",
    "    try:\n",
    "        transaction = self.conn.begin()\n",
    "\n",
    "        query = select(sql.func.sum(self.tbl_costs.c.col_summ)).where(\n",
    "            text(\n",
    "                \" TRUNC(col_date, 'MONTH') =\"\n",
    "                \" TRUNC(:col_date, 'MONTH')\"\n",
    "                \" AND col_group = :col_group\"\n",
    "            )\n",
    "        ).group_by(text(\"TRUNC(col_date, 'MONTH'), col_group\"))\n",
    "        sum_costs = self.conn.execute(\n",
    "            query,\n",
    "            col_date=month,\n",
    "            col_group=group\n",
    "        ).fetchone()[0]\n",
    "\n",
    "        query2 = select([self.tbl_costs_limits.c.col_limit]).where(\n",
    "            text(\n",
    "                \"col_date = TRUNC(:col_date, 'MONTH')\"\n",
    "                \"AND col_group = :col_group\"\n",
    "            )\n",
    "        )\n",
    "\n",
    "        query3 = query.union(query2)\n",
    "        responce = self.conn.execute(\n",
    "            query3,\n",
    "            col_date=month,\n",
    "            col_group=group\n",
    "        ).fetchall()\n",
    "\n",
    "        if responce[0][0] and (responce[1][0] > responce[0][0]):\n",
    "            print(\n",
    "                f\"Вы вышли за пределы лимита в {responce[0][0]:,g} рублей\"\n",
    "                .replace(',', ' ')\n",
    "        )\n",
    "    except exc.SQLAlchemyError as er:\n",
    "        print(er)\n",
    "        transaction.rollback()\n",
    "    except (IndexError, TypeError):\n",
    "        pass\n",
    "    finally:\n",
    "        transaction.close()\n",
    "```\n",
    "<br>При множественном insert при превышении лимита по конкретной группе трат имеет смысл по каждой такой записи делать оповещение следующего вида:\n",
    "<br>\n",
    "```python\n",
    "    \"Книги 1300 - превышен лимит в 4000 рублей\"\n",
    "```\n",
    "<br>Однако, это выходит за рамки поставленной задачи."
   ]
  },
  {
   "cell_type": "code",
   "execution_count": 24,
   "id": "8fdc86d9",
   "metadata": {},
   "outputs": [
    {
     "name": "stdout",
     "output_type": "stream",
     "text": [
      "Вы вышли за пределы лимита в 3 000 рублей\n"
     ]
    }
   ],
   "source": [
    "# установим лимит\n",
    "db.set_limit('октябрь 2021', 'канцелярия', 3000)\n",
    "\n",
    "# проверка достижения лимита\n",
    "db.insert_tbl_costs(['12.10.2021', 'Канцелярия', 2200])\n"
   ]
  }
 ],
 "metadata": {
  "kernelspec": {
   "display_name": "Python 3",
   "language": "python",
   "name": "python3"
  },
  "language_info": {
   "codemirror_mode": {
    "name": "ipython",
    "version": 3
   },
   "file_extension": ".py",
   "mimetype": "text/x-python",
   "name": "python",
   "nbconvert_exporter": "python",
   "pygments_lexer": "ipython3",
   "version": "3.8.8"
  }
 },
 "nbformat": 4,
 "nbformat_minor": 5
}
